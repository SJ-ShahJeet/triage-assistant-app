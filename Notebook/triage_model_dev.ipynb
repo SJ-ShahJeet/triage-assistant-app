{
 "cells": [
  {
   "cell_type": "code",
   "execution_count": 8,
   "id": "0bbffbe4-95c4-44cb-b79a-89e6d12c1210",
   "metadata": {},
   "outputs": [],
   "source": [
    "import pandas as pd\n",
    "import numpy as np\n",
    "\n",
    "# Load dataset\n",
    "triage_df = pd.read_csv(\"../data/ED_triage.csv\")\n",
    "\n",
    "# Filter triage grades 1–4 only (remove class 5)\n",
    "df = triage_df[triage_df['TriageGrade'] < 5].copy()\n"
   ]
  },
  {
   "cell_type": "code",
   "execution_count": 9,
   "id": "6b92c1f9-bba9-4b7d-b825-f0df407aa4dc",
   "metadata": {},
   "outputs": [],
   "source": [
    "# Features chosen based on usefulness and availability\n",
    "features = [\n",
    "    'age', 'gender', 'admission_hour', 'admission_weekday',\n",
    "    'NeedFastExecute', 'PainGrade', 'MentalDistress',\n",
    "    'MaterialDistress', 'CriticalStatus', 'StuporStatus',\n",
    "    'AVPU'\n",
    "]\n",
    "\n",
    "# Add target column\n",
    "df = df[features + ['TriageGrade']]\n"
   ]
  },
  {
   "cell_type": "code",
   "execution_count": 10,
   "id": "235fdaab-ed00-42e8-bb54-ccd1c296d774",
   "metadata": {},
   "outputs": [
    {
     "data": {
      "text/plain": [
       "AVPU                 90549\n",
       "MentalDistress       10380\n",
       "MaterialDistress     10380\n",
       "CriticalStatus       10380\n",
       "StuporStatus         10380\n",
       "PainGrade            10316\n",
       "age                      0\n",
       "gender                   0\n",
       "admission_hour           0\n",
       "admission_weekday        0\n",
       "NeedFastExecute          0\n",
       "TriageGrade              0\n",
       "dtype: int64"
      ]
     },
     "execution_count": 10,
     "metadata": {},
     "output_type": "execute_result"
    }
   ],
   "source": [
    "# Check for nulls before cleaning\n",
    "df.isnull().sum().sort_values(ascending=False)"
   ]
  },
  {
   "cell_type": "code",
   "execution_count": 12,
   "id": "557bd175-7d47-4a21-9f6a-37fba2b20de6",
   "metadata": {},
   "outputs": [],
   "source": [
    "# Step 1: Fill numerical missing values with median (safe assignment)\n",
    "for col in ['PainGrade', 'MentalDistress', 'MaterialDistress', 'CriticalStatus', 'StuporStatus']:\n",
    "    df[col] = df[col].fillna(df[col].median())\n",
    "\n",
    "# Step 2: Fill AVPU with 'Unknown' safely\n",
    "df['AVPU'] = df['AVPU'].fillna('Unknown')\n",
    "\n",
    "# Step 3: Encode categorical features\n",
    "from sklearn.preprocessing import LabelEncoder\n",
    "\n",
    "df['gender'] = LabelEncoder().fit_transform(df['gender'])   # Male=1, Female=0\n",
    "df['AVPU'] = LabelEncoder().fit_transform(df['AVPU'])       # A, V, P, U, Unknown"
   ]
  },
  {
   "cell_type": "code",
   "execution_count": 13,
   "id": "c2564e18-6e1e-4f17-a453-00005b18469d",
   "metadata": {},
   "outputs": [
    {
     "name": "stdout",
     "output_type": "stream",
     "text": [
      "              precision    recall  f1-score   support\n",
      "\n",
      "           1       1.00      1.00      1.00      2063\n",
      "           2       1.00      1.00      1.00     16221\n",
      "           3       0.76      0.81      0.78      6873\n",
      "           4       0.58      0.52      0.55      3556\n",
      "\n",
      "    accuracy                           0.89     28713\n",
      "   macro avg       0.84      0.83      0.83     28713\n",
      "weighted avg       0.89      0.89      0.89     28713\n",
      "\n"
     ]
    }
   ],
   "source": [
    "from sklearn.model_selection import train_test_split\n",
    "from sklearn.ensemble import RandomForestClassifier\n",
    "from sklearn.metrics import classification_report\n",
    "\n",
    "# Feature set\n",
    "features = [\n",
    "    'age', 'gender', 'admission_hour', 'admission_weekday',\n",
    "    'NeedFastExecute', 'PainGrade', 'MentalDistress',\n",
    "    'MaterialDistress', 'CriticalStatus', 'StuporStatus',\n",
    "    'AVPU'\n",
    "]\n",
    "\n",
    "X = df[features]\n",
    "y = df['TriageGrade']\n",
    "\n",
    "# Split the data\n",
    "X_train, X_test, y_train, y_test = train_test_split(\n",
    "    X, y, test_size=0.2, stratify=y, random_state=42\n",
    ")\n",
    "\n",
    "# Train model\n",
    "model = RandomForestClassifier(n_estimators=100, random_state=42)\n",
    "model.fit(X_train, y_train)\n",
    "\n",
    "# Evaluate\n",
    "y_pred = model.predict(X_test)\n",
    "print(classification_report(y_test, y_pred))\n"
   ]
  },
  {
   "cell_type": "code",
   "execution_count": 17,
   "id": "b0497aba-8017-4981-bc4b-df6e75152060",
   "metadata": {},
   "outputs": [],
   "source": [
    "# Shift target labels to start from 0\n",
    "y_train_xgb = y_train - 1\n",
    "y_test_xgb = y_test - 1"
   ]
  },
  {
   "cell_type": "code",
   "execution_count": 19,
   "id": "7509377d-a822-4bbd-b52f-eb2bfabab019",
   "metadata": {},
   "outputs": [
    {
     "name": "stderr",
     "output_type": "stream",
     "text": [
      "/opt/anaconda3/lib/python3.12/site-packages/xgboost/training.py:183: UserWarning: [18:29:10] WARNING: /Users/runner/work/xgboost/xgboost/src/learner.cc:738: \n",
      "Parameters: { \"use_label_encoder\" } are not used.\n",
      "\n",
      "  bst.update(dtrain, iteration=i, fobj=obj)\n"
     ]
    },
    {
     "name": "stdout",
     "output_type": "stream",
     "text": [
      "              precision    recall  f1-score   support\n",
      "\n",
      "           1       1.00      1.00      1.00      2063\n",
      "           2       1.00      1.00      1.00     16221\n",
      "           3       0.76      0.91      0.83      6873\n",
      "           4       0.73      0.44      0.55      3556\n",
      "\n",
      "    accuracy                           0.91     28713\n",
      "   macro avg       0.87      0.84      0.84     28713\n",
      "weighted avg       0.91      0.91      0.90     28713\n",
      "\n"
     ]
    }
   ],
   "source": [
    "xgb_model = XGBClassifier(\n",
    "    objective='multi:softmax',\n",
    "    num_class=4,\n",
    "    eval_metric='mlogloss',\n",
    "    use_label_encoder=False,\n",
    "    random_state=42\n",
    ")\n",
    "\n",
    "xgb_model.fit(X_train, y_train_xgb)\n",
    "y_pred_xgb = xgb_model.predict(X_test)\n",
    "\n",
    "# Shift predictions back up by 1 to match original labels\n",
    "y_pred_xgb = y_pred_xgb + 1\n",
    "\n",
    "# Evaluate\n",
    "from sklearn.metrics import classification_report\n",
    "print(classification_report(y_test, y_pred_xgb))"
   ]
  },
  {
   "cell_type": "code",
   "execution_count": 20,
   "id": "6440c3ef-7c52-4cd7-b0b2-d2bf540536ef",
   "metadata": {},
   "outputs": [],
   "source": [
    "from sklearn.utils import resample\n",
    "\n",
    "# Combine features + target\n",
    "df_model = df[features + ['TriageGrade']].copy()\n",
    "\n",
    "# Separate minority and majority\n",
    "df_class_4 = df_model[df_model['TriageGrade'] == 4]\n",
    "df_other = df_model[df_model['TriageGrade'] < 4]\n",
    "\n",
    "# Upsample class 4\n",
    "df_class_4_upsampled = resample(\n",
    "    df_class_4,\n",
    "    replace=True,\n",
    "    n_samples=10000,  # adjust if needed\n",
    "    random_state=42\n",
    ")\n",
    "\n",
    "# Combine\n",
    "df_balanced = pd.concat([df_other, df_class_4_upsampled])\n",
    "\n",
    "# Redefine features/target\n",
    "X = df_balanced[features]\n",
    "y = df_balanced['TriageGrade']"
   ]
  },
  {
   "cell_type": "code",
   "execution_count": 21,
   "id": "2b5919d0-ac20-4066-8115-7d580afd1508",
   "metadata": {},
   "outputs": [],
   "source": [
    "# Shift y down by 1 to match XGBoost format\n",
    "y = y - 1\n"
   ]
  },
  {
   "cell_type": "code",
   "execution_count": 22,
   "id": "ebcf5b46-d6e5-4712-b722-6de4db0e680d",
   "metadata": {},
   "outputs": [
    {
     "name": "stderr",
     "output_type": "stream",
     "text": [
      "/opt/anaconda3/lib/python3.12/site-packages/xgboost/training.py:183: UserWarning: [18:39:07] WARNING: /Users/runner/work/xgboost/xgboost/src/learner.cc:738: \n",
      "Parameters: { \"use_label_encoder\" } are not used.\n",
      "\n",
      "  bst.update(dtrain, iteration=i, fobj=obj)\n"
     ]
    },
    {
     "name": "stdout",
     "output_type": "stream",
     "text": [
      "              precision    recall  f1-score   support\n",
      "\n",
      "           1       1.00      1.00      1.00      2063\n",
      "           2       1.00      1.00      1.00     16221\n",
      "           3       0.83      0.98      0.90      6873\n",
      "           4       0.84      0.31      0.45      2000\n",
      "\n",
      "    accuracy                           0.94     27157\n",
      "   macro avg       0.92      0.82      0.84     27157\n",
      "weighted avg       0.94      0.94      0.93     27157\n",
      "\n"
     ]
    }
   ],
   "source": [
    "from xgboost import XGBClassifier\n",
    "from sklearn.model_selection import train_test_split\n",
    "from sklearn.metrics import classification_report\n",
    "\n",
    "# Split\n",
    "X_train, X_test, y_train, y_test = train_test_split(\n",
    "    X, y, stratify=y, test_size=0.2, random_state=42\n",
    ")\n",
    "\n",
    "# Model\n",
    "model = XGBClassifier(\n",
    "    learning_rate=0.1,\n",
    "    max_depth=4,\n",
    "    subsample=0.8,\n",
    "    colsample_bytree=0.8,\n",
    "    gamma=1,\n",
    "    n_estimators=300,\n",
    "    objective='multi:softmax',\n",
    "    num_class=4,\n",
    "    eval_metric='mlogloss',\n",
    "    use_label_encoder=False,\n",
    "    random_state=42\n",
    ")\n",
    "\n",
    "model.fit(X_train, y_train)\n",
    "y_pred = model.predict(X_test)\n",
    "\n",
    "# Shift prediction back up\n",
    "y_pred = y_pred + 1\n",
    "y_test = y_test + 1\n",
    "\n",
    "print(classification_report(y_test, y_pred))"
   ]
  },
  {
   "cell_type": "code",
   "execution_count": 24,
   "id": "4ebe6d5a-bd44-4edf-a538-ba4247b77604",
   "metadata": {},
   "outputs": [
    {
     "data": {
      "text/plain": [
       "['../model/triage_model.pkl']"
      ]
     },
     "execution_count": 24,
     "metadata": {},
     "output_type": "execute_result"
    }
   ],
   "source": [
    "import joblib\n",
    "\n",
    "# Save the trained and tuned model\n",
    "joblib.dump(model, \"../model/triage_model.pkl\")"
   ]
  },
  {
   "cell_type": "code",
   "execution_count": 25,
   "id": "bf23be7a-26f9-4e98-842b-c7f400a354c5",
   "metadata": {},
   "outputs": [
    {
     "ename": "XGBoostError",
     "evalue": "[20:01:50] /Users/runner/work/xgboost/xgboost/dmlc-core/src/io/local_filesys.cc:210: Check failed: allow_null:  LocalFileSystem::Open \"model/triage_model.json\": No such file or directory\nStack trace:\n  [bt] (0) 1   libxgboost.dylib                    0x000000017a1059e0 dmlc::LogMessageFatal::~LogMessageFatal() + 124\n  [bt] (1) 2   libxgboost.dylib                    0x000000017a4e4ae0 dmlc::io::LocalFileSystem::Open(dmlc::io::URI const&, char const*, bool) + 768\n  [bt] (2) 3   libxgboost.dylib                    0x000000017a4d9ca0 dmlc::Stream::Create(char const*, char const*, bool) + 68\n  [bt] (3) 4   libxgboost.dylib                    0x000000017a18f050 XGBoosterSaveModel + 120\n  [bt] (4) 5   libffi.8.dylib                      0x000000010198404c ffi_call_SYSV + 76\n  [bt] (5) 6   libffi.8.dylib                      0x0000000101981834 ffi_call_int + 1404\n  [bt] (6) 7   _ctypes.cpython-312-darwin.so       0x00000001019640f0 _ctypes_callproc + 756\n  [bt] (7) 8   _ctypes.cpython-312-darwin.so       0x000000010195df6c PyCFuncPtr_call + 232\n  [bt] (8) 9   python3.12                          0x0000000100f23a10 _PyEval_EvalFrameDefault + 222788\n\n",
     "output_type": "error",
     "traceback": [
      "\u001b[0;31m---------------------------------------------------------------------------\u001b[0m",
      "\u001b[0;31mXGBoostError\u001b[0m                              Traceback (most recent call last)",
      "Cell \u001b[0;32mIn[25], line 1\u001b[0m\n\u001b[0;32m----> 1\u001b[0m model\u001b[38;5;241m.\u001b[39msave_model(\u001b[38;5;124m\"\u001b[39m\u001b[38;5;124mmodel/triage_model.json\u001b[39m\u001b[38;5;124m\"\u001b[39m)\n",
      "File \u001b[0;32m/opt/anaconda3/lib/python3.12/site-packages/xgboost/sklearn.py:1028\u001b[0m, in \u001b[0;36mXGBModel.save_model\u001b[0;34m(self, fname)\u001b[0m\n\u001b[1;32m   1026\u001b[0m meta_str \u001b[38;5;241m=\u001b[39m json\u001b[38;5;241m.\u001b[39mdumps(meta)\n\u001b[1;32m   1027\u001b[0m \u001b[38;5;28mself\u001b[39m\u001b[38;5;241m.\u001b[39mget_booster()\u001b[38;5;241m.\u001b[39mset_attr(scikit_learn\u001b[38;5;241m=\u001b[39mmeta_str)\n\u001b[0;32m-> 1028\u001b[0m \u001b[38;5;28mself\u001b[39m\u001b[38;5;241m.\u001b[39mget_booster()\u001b[38;5;241m.\u001b[39msave_model(fname)\n\u001b[1;32m   1029\u001b[0m \u001b[38;5;28mself\u001b[39m\u001b[38;5;241m.\u001b[39mget_booster()\u001b[38;5;241m.\u001b[39mset_attr(scikit_learn\u001b[38;5;241m=\u001b[39m\u001b[38;5;28;01mNone\u001b[39;00m)\n",
      "File \u001b[0;32m/opt/anaconda3/lib/python3.12/site-packages/xgboost/core.py:2797\u001b[0m, in \u001b[0;36mBooster.save_model\u001b[0;34m(self, fname)\u001b[0m\n\u001b[1;32m   2795\u001b[0m \u001b[38;5;28;01mif\u001b[39;00m \u001b[38;5;28misinstance\u001b[39m(fname, (\u001b[38;5;28mstr\u001b[39m, os\u001b[38;5;241m.\u001b[39mPathLike)):  \u001b[38;5;66;03m# assume file name\u001b[39;00m\n\u001b[1;32m   2796\u001b[0m     fname \u001b[38;5;241m=\u001b[39m os\u001b[38;5;241m.\u001b[39mfspath(os\u001b[38;5;241m.\u001b[39mpath\u001b[38;5;241m.\u001b[39mexpanduser(fname))\n\u001b[0;32m-> 2797\u001b[0m     _check_call(_LIB\u001b[38;5;241m.\u001b[39mXGBoosterSaveModel(\u001b[38;5;28mself\u001b[39m\u001b[38;5;241m.\u001b[39mhandle, c_str(fname)))\n\u001b[1;32m   2798\u001b[0m \u001b[38;5;28;01melse\u001b[39;00m:\n\u001b[1;32m   2799\u001b[0m     \u001b[38;5;28;01mraise\u001b[39;00m \u001b[38;5;167;01mTypeError\u001b[39;00m(\u001b[38;5;124m\"\u001b[39m\u001b[38;5;124mfname must be a string or os PathLike\u001b[39m\u001b[38;5;124m\"\u001b[39m)\n",
      "File \u001b[0;32m/opt/anaconda3/lib/python3.12/site-packages/xgboost/core.py:310\u001b[0m, in \u001b[0;36m_check_call\u001b[0;34m(ret)\u001b[0m\n\u001b[1;32m    299\u001b[0m \u001b[38;5;250m\u001b[39m\u001b[38;5;124;03m\"\"\"Check the return value of C API call\u001b[39;00m\n\u001b[1;32m    300\u001b[0m \n\u001b[1;32m    301\u001b[0m \u001b[38;5;124;03mThis function will raise exception when error occurs.\u001b[39;00m\n\u001b[0;32m   (...)\u001b[0m\n\u001b[1;32m    307\u001b[0m \u001b[38;5;124;03m    return value from API calls\u001b[39;00m\n\u001b[1;32m    308\u001b[0m \u001b[38;5;124;03m\"\"\"\u001b[39;00m\n\u001b[1;32m    309\u001b[0m \u001b[38;5;28;01mif\u001b[39;00m ret \u001b[38;5;241m!=\u001b[39m \u001b[38;5;241m0\u001b[39m:\n\u001b[0;32m--> 310\u001b[0m     \u001b[38;5;28;01mraise\u001b[39;00m XGBoostError(py_str(_LIB\u001b[38;5;241m.\u001b[39mXGBGetLastError()))\n",
      "\u001b[0;31mXGBoostError\u001b[0m: [20:01:50] /Users/runner/work/xgboost/xgboost/dmlc-core/src/io/local_filesys.cc:210: Check failed: allow_null:  LocalFileSystem::Open \"model/triage_model.json\": No such file or directory\nStack trace:\n  [bt] (0) 1   libxgboost.dylib                    0x000000017a1059e0 dmlc::LogMessageFatal::~LogMessageFatal() + 124\n  [bt] (1) 2   libxgboost.dylib                    0x000000017a4e4ae0 dmlc::io::LocalFileSystem::Open(dmlc::io::URI const&, char const*, bool) + 768\n  [bt] (2) 3   libxgboost.dylib                    0x000000017a4d9ca0 dmlc::Stream::Create(char const*, char const*, bool) + 68\n  [bt] (3) 4   libxgboost.dylib                    0x000000017a18f050 XGBoosterSaveModel + 120\n  [bt] (4) 5   libffi.8.dylib                      0x000000010198404c ffi_call_SYSV + 76\n  [bt] (5) 6   libffi.8.dylib                      0x0000000101981834 ffi_call_int + 1404\n  [bt] (6) 7   _ctypes.cpython-312-darwin.so       0x00000001019640f0 _ctypes_callproc + 756\n  [bt] (7) 8   _ctypes.cpython-312-darwin.so       0x000000010195df6c PyCFuncPtr_call + 232\n  [bt] (8) 9   python3.12                          0x0000000100f23a10 _PyEval_EvalFrameDefault + 222788\n\n"
     ]
    }
   ],
   "source": [
    "model.save_model(\"model/triage_model.json\")"
   ]
  },
  {
   "cell_type": "code",
   "execution_count": null,
   "id": "f8f3ac86-3cd9-41fc-b2cd-a33690e26b1c",
   "metadata": {},
   "outputs": [],
   "source": []
  }
 ],
 "metadata": {
  "kernelspec": {
   "display_name": "Python 3 (ipykernel)",
   "language": "python",
   "name": "python3"
  },
  "language_info": {
   "codemirror_mode": {
    "name": "ipython",
    "version": 3
   },
   "file_extension": ".py",
   "mimetype": "text/x-python",
   "name": "python",
   "nbconvert_exporter": "python",
   "pygments_lexer": "ipython3",
   "version": "3.12.7"
  }
 },
 "nbformat": 4,
 "nbformat_minor": 5
}
